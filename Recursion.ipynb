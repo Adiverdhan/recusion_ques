{
 "cells": [
  {
   "cell_type": "raw",
   "id": "117e9b49-7ccd-4f36-8b83-659ae1b9a9b4",
   "metadata": {},
   "source": [
    "Q.1 Can you explain the logic and working of the Tower of Hanoi algorithm by writing a Java/Python program?\n",
    "How does the recursion work, and how are the movements of disks between rods accomplished?"
   ]
  },
  {
   "cell_type": "code",
   "execution_count": 1,
   "id": "e1d91072-5686-4156-bfcb-52c26c544768",
   "metadata": {},
   "outputs": [
    {
     "name": "stdout",
     "output_type": "stream",
     "text": [
      "Move disk 1 from A to C\n",
      "Move disk 2 from A to B\n",
      "Move disk 1 from C to B\n",
      "Move disk 3 from A to C\n",
      "Move disk 1 from B to A\n",
      "Move disk 2 from B to C\n",
      "Move disk 1 from A to C\n"
     ]
    }
   ],
   "source": [
    "def tower_of_hanoi(n, source, target, aux):\n",
    "    if n == 1:\n",
    "        print(f\"Move disk 1 from {source} to {target}\")\n",
    "        return\n",
    "    tower_of_hanoi(n-1, source, aux, target)\n",
    "    print(f\"Move disk {n} from {source} to {target}\")\n",
    "    tower_of_hanoi(n-1, aux, target, source)\n",
    "tower_of_hanoi(3, 'A', 'C', 'B')\n"
   ]
  },
  {
   "cell_type": "raw",
   "id": "cb95febc-0a6c-41cb-bfa0-799dcdb0070b",
   "metadata": {},
   "source": [
    "1)  tower_of_hanoi is a recursive function that takes four parameters: n (the number of disks), source (the source rod), target (the target rod), and auxiliary (the auxiliary rod).\n",
    "\n",
    "2)  The base case is when n is 1. In this case, it directly moves the disk from the source rod to the target rod and prints the move.\n",
    "\n",
    "3)  In the recursive case (when n is greater than 1), the function follows these steps:\n",
    "   a) Move n-1 disks from the source rod to the auxiliary rod, using the target rod as the auxiliary.\n",
    "   b) Move the nth disk from the source rod to the target rod.\n",
    "   c) Move the n-1 disks from the auxiliary rod to the target rod, using the source rod as the auxiliary.\n",
    "The recursive calls continue until the base case is reached, and the movements are printed in the correct order."
   ]
  },
  {
   "cell_type": "raw",
   "id": "ecd83ba5-69ce-48fa-9478-67a917e7153c",
   "metadata": {},
   "source": [
    "Q.2 Given two strings word1 and word2, return the minimum number of operations required to convert word1\n",
    "to word2.\n",
    "Example 1:\n",
    "Input: word1 = \"horse\", word2 = \"ros\"\n",
    "Output: 3\n",
    "Explanation:\n",
    "horse -> rorse (replace 'h' with 'r')\n",
    "rorse -> rose (remove 'r')\n",
    "rose -> ros (remove 'e')\n",
    "Example 2:\n",
    "Input: word1 = \"intention\", word2 = \"execution\"\n",
    "Output: 5\n",
    "Explanation:\n",
    "intention -> inention (remove 't')\n",
    "inention -> enention (replace 'i' with 'e')\n",
    "enention -> exention (replace 'n' with 'x')\n",
    "exention -> exection (replace 'n' with 'c')\n",
    "exection -> execution (insert 'u')"
   ]
  },
  {
   "cell_type": "code",
   "execution_count": 2,
   "id": "ca850b45-3335-47d8-8059-bbd1c8cc7a53",
   "metadata": {},
   "outputs": [
    {
     "name": "stdout",
     "output_type": "stream",
     "text": [
      "3\n",
      "5\n"
     ]
    }
   ],
   "source": [
    "def minDistance(word1, word2):\n",
    "    m, n = len(word1), len(word2)\n",
    "    dp = [[0] * (n+1) for _ in range(m+1)]\n",
    "    for i in range(m+1):\n",
    "        dp[i][0] = i\n",
    "    for j in range(n+1):\n",
    "        dp[0][j] = j\n",
    "    for i in range(1, m+1):\n",
    "        for j in range(1, n+1):\n",
    "            if word1[i-1] == word2[j-1]:\n",
    "                dp[i][j] = dp[i-1][j-1]\n",
    "            else:\n",
    "                dp[i][j] = 1 + min(dp[i-1][j],     \n",
    "                                   dp[i][j-1],     \n",
    "                                   dp[i-1][j-1])\n",
    "    return dp[m][n]\n",
    "word1_1, word2_1 = \"horse\", \"ros\"\n",
    "word1_2, word2_2 = \"intention\", \"execution\"\n",
    "\n",
    "print(minDistance(word1_1, word2_1))  \n",
    "print(minDistance(word1_2, word2_2))  \n"
   ]
  },
  {
   "cell_type": "raw",
   "id": "5c4c6270-15cb-4215-bc2a-51778b5109ae",
   "metadata": {},
   "source": [
    "Q. 3 Print the max value of the array [ 13, 1, -3, 22, 5]."
   ]
  },
  {
   "cell_type": "code",
   "execution_count": 3,
   "id": "c01bcf26-93ee-49ee-8d3b-11fec0d1538b",
   "metadata": {},
   "outputs": [
    {
     "name": "stdout",
     "output_type": "stream",
     "text": [
      "The maximum value in the array is: 22\n"
     ]
    }
   ],
   "source": [
    "arr = [13, 1, -3, 22, 5]\n",
    "max_value = max(arr)\n",
    "print(f\"The maximum value in the array is: {max_value}\")\n"
   ]
  },
  {
   "cell_type": "raw",
   "id": "139f5168-61c0-48d1-8b4f-ee5ea34af5f9",
   "metadata": {},
   "source": [
    "Q.4 Find the sum of the values of the array [92, 23, 15, -20, 10]."
   ]
  },
  {
   "cell_type": "code",
   "execution_count": 4,
   "id": "b04d9830-2e78-4193-a5d9-224960d7008b",
   "metadata": {},
   "outputs": [
    {
     "name": "stdout",
     "output_type": "stream",
     "text": [
      "The sum of the values in the array is: 120\n"
     ]
    }
   ],
   "source": [
    "arr = [92, 23, 15, -20, 10]\n",
    "sum_values = sum(arr)\n",
    "print(f\"The sum of the values in the array is: {sum_values}\")\n"
   ]
  },
  {
   "cell_type": "raw",
   "id": "4e4d47fb-7fe3-47ea-b9dd-b81f87fe1caf",
   "metadata": {},
   "source": [
    "Q.5 Given a number n. Print if it is an armstrong number or not.An armstrong number is a number if the sum\n",
    "of every digit in that number raised to the power of total digits in that number is equal to the number.\n",
    "Example : 153 = 1^3 + 5^3 + 3^3 = 1 + 125 + 27 = 153 hence 153 is an armstrong number. (Easy)\n",
    "Input1 : 153\n",
    "Output1 : Yes\n",
    "Input 2 : 134\n",
    "Output2 : No"
   ]
  },
  {
   "cell_type": "code",
   "execution_count": 5,
   "id": "213dae91-ead8-44e3-8e9e-79e8c7eb478e",
   "metadata": {},
   "outputs": [
    {
     "name": "stdout",
     "output_type": "stream",
     "text": [
      "Input 153: Yes\n",
      "Input 134: No\n"
     ]
    }
   ],
   "source": [
    "def is_armstrong_number(n):\n",
    "    num_str = str(n)\n",
    "    num_digits = len(num_str)\n",
    "    armstrong_sum = sum(int(digit) ** num_digits for digit in num_str)\n",
    "    return armstrong_sum == n\n",
    "input1 = 153\n",
    "input2 = 134\n",
    "output1 = is_armstrong_number(input1)\n",
    "output2 = is_armstrong_number(input2)\n",
    "print(f\"Input {input1}: {'Yes' if output1 else 'No'}\")\n",
    "print(f\"Input {input2}: {'Yes' if output2 else 'No'}\")\n"
   ]
  },
  {
   "cell_type": "code",
   "execution_count": null,
   "id": "cf2e8d4b-64b3-4027-bebc-e5b2fa155db7",
   "metadata": {},
   "outputs": [],
   "source": []
  }
 ],
 "metadata": {
  "kernelspec": {
   "display_name": "Python 3 (ipykernel)",
   "language": "python",
   "name": "python3"
  },
  "language_info": {
   "codemirror_mode": {
    "name": "ipython",
    "version": 3
   },
   "file_extension": ".py",
   "mimetype": "text/x-python",
   "name": "python",
   "nbconvert_exporter": "python",
   "pygments_lexer": "ipython3",
   "version": "3.10.8"
  }
 },
 "nbformat": 4,
 "nbformat_minor": 5
}
